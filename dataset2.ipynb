{
 "cells": [
  {
   "cell_type": "code",
   "execution_count": 1,
   "id": "e71af0c5",
   "metadata": {},
   "outputs": [
    {
     "name": "stdout",
     "output_type": "stream",
     "text": [
      "2\n",
      "4\n",
      "6\n",
      "6\n"
     ]
    }
   ],
   "source": [
    "#Question 1:\n",
    "\n",
    "\n",
    "a = 0\n",
    "\n",
    "def b() :\n",
    "    \n",
    "    global a  #this variable can be accessible globally and this variable is declared outside the function \n",
    "    a = c(a)\n",
    "    return a\n",
    "\n",
    "def c(a) :\n",
    "    \n",
    "    return a+2\n",
    "\n",
    "print(b()) #In function \"b\" we have a function call for \"c\" which increases the value of \"a\" from 0 to 2\n",
    "print(b()) #Since \"a\" is defined as global if we call function \"b\" which will call function \"c\" , and \"a\" has value=2 which increases from 2 to 4\n",
    "print(b()) #As we know \"a\" is defined as global if we call function \"b\" which will again calls function \"c\" and \"a\"=4 which increases from 4 to 6\n",
    "print(a)   #the final result will be displayed\n"
   ]
  },
  {
   "cell_type": "code",
   "execution_count": 2,
   "id": "0789b9c3",
   "metadata": {},
   "outputs": [
    {
     "name": "stdout",
     "output_type": "stream",
     "text": [
      "dataprogramming.py No such file or directory\n"
     ]
    }
   ],
   "source": [
    "#Question 2 :\n",
    "\n",
    "\n",
    "def fileLength(dp) :\n",
    "    \n",
    "    try:\n",
    "        fp = open(dp,'r')\n",
    "        data = fp.read()\n",
    "        print(len(data))\n",
    "        \n",
    "    except FileNotFoundError:\n",
    "        print(dp+\" No such file or directory\")\n",
    "        \n",
    "    except:\n",
    "        print(\"there is some issue\")\n",
    "        \n",
    "fileLength(\"dataprogramming.py\")\n"
   ]
  },
  {
   "cell_type": "code",
   "execution_count": 3,
   "id": "189a56f9",
   "metadata": {},
   "outputs": [
    {
     "name": "stdout",
     "output_type": "stream",
     "text": [
      "['doll', 'firetruck', 'kitten']\n",
      "I am a Kangaroo located at coordinates (3,0)\n"
     ]
    }
   ],
   "source": [
    "#Question 3 :\n",
    "\n",
    "\n",
    "class Marsupial :\n",
    "    \n",
    "    def __init__(self):\n",
    "        self.record = []\n",
    "        \n",
    "    def pouch_contents(self):\n",
    "        print(self.record)\n",
    "        \n",
    "    def put_in_pouch(self,x):\n",
    "        self.record.append(x)\n",
    "        \n",
    "class Kangaroo(Marsupial):\n",
    "    def __init__(self,x,y):\n",
    "        Marsupial.__init__(self)\n",
    "        self.x = x\n",
    "        self.y = y\n",
    "        \n",
    "    def __str__(self):\n",
    "        return \"I am a Kangaroo located at coordinates ({},{})\".format(self.x,self.y)\n",
    "    \n",
    "    def jump(self,dx,dy):\n",
    "        self.x = self.x + dx\n",
    "        self.y = self.y + dy\n",
    "    \n",
    "k = Kangaroo(0,0)\n",
    "\n",
    "k.put_in_pouch('doll')\n",
    "k.put_in_pouch('firetruck')\n",
    "k.put_in_pouch('kitten')\n",
    "k.pouch_contents()\n",
    "k.jump(1,0)\n",
    "k.jump(1,0)\n",
    "k.jump(1,0)\n",
    "print(k)"
   ]
  },
  {
   "cell_type": "code",
   "execution_count": 1,
   "id": "ade293de",
   "metadata": {},
   "outputs": [
    {
     "name": "stdout",
     "output_type": "stream",
     "text": [
      "10\n",
      "5\n",
      "16\n",
      "8\n",
      "4\n",
      "2\n",
      "1\n"
     ]
    }
   ],
   "source": [
    "#Question 4 :\n",
    "\n",
    "\n",
    "def collatz(x) :\n",
    "    \n",
    "    if(x==0 or x==1):\n",
    "        print(x)\n",
    "        return\n",
    "        \n",
    "    if(x%2==0) :\n",
    "        print(x)\n",
    "        x=int(x/2)\n",
    "        collatz(x)\n",
    "        \n",
    "    else :\n",
    "        print(x)\n",
    "        x=int(3*x+1)\n",
    "        collatz(x)\n",
    "        \n",
    "    return\n",
    "    \n",
    "    \n",
    "collatz(10)\n",
    "\n",
    "    "
   ]
  },
  {
   "cell_type": "code",
   "execution_count": 3,
   "id": "571b7c84",
   "metadata": {},
   "outputs": [
    {
     "name": "stdout",
     "output_type": "stream",
     "text": [
      "1001"
     ]
    }
   ],
   "source": [
    "#Question 5 :\n",
    "\n",
    "\n",
    "def binary(num):\n",
    "    \n",
    "   if num > 1:\n",
    "       binary(num//2)\n",
    "        \n",
    "   print(num % 2, end='')\n",
    "\n",
    "binary(9)"
   ]
  },
  {
   "cell_type": "code",
   "execution_count": 8,
   "id": "b1d35ae9",
   "metadata": {},
   "outputs": [
    {
     "name": "stdout",
     "output_type": "stream",
     "text": [
      "W3C Mission\n",
      "Principles\n"
     ]
    }
   ],
   "source": [
    "#Question 6 :\n",
    "\n",
    "\n",
    "from html.parser import HTMLParser\n",
    "\n",
    "class HeadingParser(HTMLParser):\n",
    "    \n",
    "    def handle_data(self,a):\n",
    "        \n",
    "        tag = super().get_starttag_text()\n",
    "        \n",
    "        if '\\n' not in a:\n",
    "            if tag == '<h1>':\n",
    "                print(a.strip())\n",
    "            elif tag == '<h2>':\n",
    "                print(a.strip())\n",
    "        \n",
    "        \n",
    "infile = open('w3c.html','r')\n",
    "content = infile.read()\n",
    "infile.close()\n",
    "hp = HeadingParser()\n",
    "hp.feed(content)"
   ]
  },
  {
   "cell_type": "code",
   "execution_count": 5,
   "id": "30f40225",
   "metadata": {},
   "outputs": [
    {
     "name": "stdout",
     "output_type": "stream",
     "text": [
      "http://reed.cs.depaul.edu/lperkovic/csc242/test1.html\n",
      "http://reed.cs.depaul.edu/lperkovic/csc242/test1.html\n"
     ]
    }
   ],
   "source": [
    "#Question 7 :\n",
    "\n",
    "\n",
    "def webdir(URL,depth,indent,xyz):\n",
    "    \n",
    "    if xyz == depth:\n",
    "        return\n",
    "    print(URL)\n",
    "    webdir(URL,depth,indent,xyz+1)\n",
    "    \n",
    "    return\n",
    "    \n",
    "webdir('http://reed.cs.depaul.edu/lperkovic/csc242/test1.html',2,2,0)\n",
    "    "
   ]
  },
  {
   "cell_type": "code",
   "execution_count": 6,
   "id": "72223e30",
   "metadata": {},
   "outputs": [
    {
     "name": "stdout",
     "output_type": "stream",
     "text": [
      "a)All the tempareture data\n",
      "('24.8',)\n",
      "('28.4',)\n",
      "('27.9',)\n",
      "('27.6',)\n",
      "('4.2',)\n",
      "('8.3',)\n",
      "('15.7',)\n",
      "('10.4',)\n",
      "('13.6',)\n",
      "('20.7',)\n",
      "('27.7',)\n",
      "('22.2',)\n",
      "b)All the cities, but without repetition.\n",
      "('Mumbai',)\n",
      "('London',)\n",
      "('Cairo',)\n",
      "c) All the records for India.\n",
      "('Mumbai', 'India', 'Winter', '24.8', '5.9')\n",
      "('Mumbai', 'India', 'Spring', '28.4', '16.2')\n",
      "('Mumbai', 'India', 'Summer', '27.9', '1549.4')\n",
      "('Mumbai', 'India', 'Fall', '27.6', '346.0')\n",
      "d) All the Fall records.\n",
      "('Mumbai', 'India', 'Fall', '27.6', '346.0')\n",
      "('London', 'United Kingdom', 'Fall', '10.4', '218.5')\n",
      "('Cairo', 'Egypt', 'Fall', '22.2', '4.5')\n",
      "e) The city, country, and season for which the average rainfall is between 200 and 400 millimeters.\n",
      "('Mumbai', 'India', 'Fall')\n",
      "('London', 'United Kingdom', 'Winter')\n",
      "('London', 'United Kingdom', 'Fall')\n",
      "('Cairo', 'Egypt', 'Fall')\n",
      "f) The city and country for which the average Fall temperature is above 20 degrees, in increasing temperature order.\n",
      "('Cairo', 'Egypt')\n",
      "('Mumbai', 'India')\n",
      "g) The total annual rainfall for Cairo.\n",
      "(27.6,)\n",
      "h)The total rainfall for each season.\n",
      "(569.0, 'Fall')\n",
      "(192.29999999999998, 'Spring')\n",
      "(1706.5, 'Summer')\n",
      "(230.1, 'Winter')\n"
     ]
    }
   ],
   "source": [
    "#Question 8 :\n",
    "\n",
    "\n",
    "import sqlite3\n",
    "\n",
    "conn = sqlite3.connect('weather.db')\n",
    "cursor = conn.cursor()\n",
    "cursor.execute(\"DROP TABLE IF EXISTS ANNUAL_WEATHER\")\n",
    "query = \"CREATE TABLE ANNUAL_WEATHER (City VARCHAR(255) NOT NULL,Country VARCHAR(255) NOT NULL,Season VARCHAR(255) NOT NULL,Tempareture VARCHAR(255) NOT NULL,Rainfall VARCHAR(255) NOT NULL)\"\n",
    "cursor.execute(query)\n",
    "cursor.execute(\"INSERT INTO ANNUAL_WEATHER VALUES('Mumbai','India','Winter','24.8','5.9')\")\n",
    "cursor.execute(\"INSERT INTO ANNUAL_WEATHER VALUES('Mumbai','India','Spring','28.4','16.2')\")\n",
    "cursor.execute(\"INSERT INTO ANNUAL_WEATHER VALUES('Mumbai','India','Summer','27.9','1549.4')\")\n",
    "cursor.execute(\"INSERT INTO ANNUAL_WEATHER VALUES('Mumbai','India','Fall','27.6','346.0')\")\n",
    "cursor.execute(\"INSERT INTO ANNUAL_WEATHER VALUES('London','United Kingdom','Winter','4.2','207.7')\")\n",
    "cursor.execute(\"INSERT INTO ANNUAL_WEATHER VALUES('London','United Kingdom','Spring','8.3','169.6')\")\n",
    "cursor.execute(\"INSERT INTO ANNUAL_WEATHER VALUES('London','United Kingdom','Summer','15.7','157.0')\")\n",
    "cursor.execute(\"INSERT INTO ANNUAL_WEATHER VALUES('London','United Kingdom','Fall','10.4','218.5')\")\n",
    "cursor.execute(\"INSERT INTO ANNUAL_WEATHER VALUES('Cairo','Egypt','Winter','13.6','16.5')\")\n",
    "cursor.execute(\"INSERT INTO ANNUAL_WEATHER VALUES('Cairo','Egypt','Spring','20.7','6.5')\")\n",
    "cursor.execute(\"INSERT INTO ANNUAL_WEATHER VALUES('Cairo','Egypt','Summer','27.7','0.1')\")\n",
    "cursor.execute(\"INSERT INTO ANNUAL_WEATHER VALUES('Cairo','Egypt','Fall','22.2','4.5')\")\n",
    "\n",
    "print(\"a)All the tempareture data\")\n",
    "data = cursor.execute(\"SELECT Tempareture FROM ANNUAL_WEATHER\")\n",
    "for row in data:\n",
    "    print(row)\n",
    "\n",
    "print(\"b)All the cities, but without repetition.\")\n",
    "data = cursor.execute(\"SELECT DISTINCT City FROM ANNUAL_WEATHER\")\n",
    "for row in data:\n",
    "    print(row)\n",
    "\n",
    "print(\"c) All the records for India.\")\n",
    "data = cursor.execute(\"SELECT * FROM ANNUAL_WEATHER WHERE Country='India'\")\n",
    "for row in data:\n",
    "    print(row)\n",
    "\n",
    "print(\"d) All the Fall records.\")\n",
    "data = cursor.execute(\"SELECT * FROM ANNUAL_WEATHER WHERE Season='Fall'\")\n",
    "for row in data:\n",
    "    print(row)\n",
    "\n",
    "print(\"e) The city, country, and season for which the average rainfall is between 200 and 400 millimeters.\")\n",
    "data = cursor.execute(\"SELECT City,Country,Season FROM ANNUAL_WEATHER WHERE Rainfall>=200 and Rainfall<=400\")\n",
    "for row in data:\n",
    "    print(row)\n",
    "print(\"f) The city and country for which the average Fall temperature is above 20 degrees, in increasing temperature order.\")\n",
    "data = cursor.execute(\"SELECT City,Country FROM ANNUAL_WEATHER WHERE Season='Fall' and Tempareture>20 ORDER BY Tempareture\")\n",
    "for row in data:\n",
    "    print(row)\n",
    "print(\"g) The total annual rainfall for Cairo.\")\n",
    "data = cursor.execute(\"SELECT SUM(Rainfall) from ANNUAL_WEATHER WHERE City='Cairo'\")\n",
    "for row in data:\n",
    "    print(row)\n",
    "print(\"h)The total rainfall for each season.\")\n",
    "data = cursor.execute(\"SELECT SUM(Rainfall),Season from ANNUAL_WEATHER GROUP BY Season\")\n",
    "for row in data:\n",
    "    print(row)\n",
    "\n",
    "conn.close()"
   ]
  },
  {
   "cell_type": "code",
   "execution_count": 8,
   "id": "9072ae62",
   "metadata": {},
   "outputs": [
    {
     "name": "stdout",
     "output_type": "stream",
     "text": [
      "a) ['THE', 'QUICK', 'BROWN', 'FOX', 'JUMPS', 'OVER', 'THE', 'LAZY', 'DOG']\n",
      "b) ['the', 'quick', 'brown', 'fox', 'jumps', 'over', 'the', 'lazy', 'dog']\n",
      "c) [3, 5, 5, 3, 5, 4, 3, 4, 3]\n",
      "d) [['THE', 'the', 3], ['QUICK', 'quick', 5], ['BROWN', 'brown', 5], ['FOX', 'fox', 3], ['JUMPS', 'jumps', 5], ['OVER', 'over', 4], ['THE', 'the', 3], ['LAZY', 'lazy', 4], ['DOG', 'dog', 3]]\n",
      "e) ['quick', 'brown', 'jumps', 'over', 'lazy']\n"
     ]
    }
   ],
   "source": [
    "#Question 9 :\n",
    "\n",
    "\n",
    "words = [\"The\", \"quick\", \"brown\", \"fox\", \"jumps\", \"over\",\"the\", \"lazy\", \"dog\"]\n",
    "\n",
    "record = [w.upper() for w in words]\n",
    "print(\"a)\",record)\n",
    "\n",
    "record1 = [w.lower() for w in words]\n",
    "print(\"b)\",record1)\n",
    "\n",
    "record2 = [len(w) for w in words]\n",
    "print(\"c)\",record2)\n",
    "\n",
    "record3 = [[w.upper(),w.lower(),len(w)] for w in words]\n",
    "print(\"d)\",record3)\n",
    "\n",
    "record4 = [w for w in words if len(w)>=4]\n",
    "print(\"e)\",record4)"
   ]
  },
  {
   "cell_type": "code",
   "execution_count": null,
   "id": "cbd3cbfc",
   "metadata": {},
   "outputs": [],
   "source": []
  }
 ],
 "metadata": {
  "kernelspec": {
   "display_name": "Python 3 (ipykernel)",
   "language": "python",
   "name": "python3"
  },
  "language_info": {
   "codemirror_mode": {
    "name": "ipython",
    "version": 3
   },
   "file_extension": ".py",
   "mimetype": "text/x-python",
   "name": "python",
   "nbconvert_exporter": "python",
   "pygments_lexer": "ipython3",
   "version": "3.10.4"
  }
 },
 "nbformat": 4,
 "nbformat_minor": 5
}
